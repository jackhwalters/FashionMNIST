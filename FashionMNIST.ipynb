{
 "cells": [
  {
   "cell_type": "markdown",
   "metadata": {},
   "source": [
    "# ECS759P Artificial Intelligence:  Coursework 2"
   ]
  },
  {
   "cell_type": "markdown",
   "metadata": {},
   "source": [
    "## Question 2: Lost in the closet"
   ]
  },
  {
   "cell_type": "code",
   "execution_count": null,
   "metadata": {},
   "outputs": [],
   "source": [
    "import torch\n",
    "import torchvision\n",
    "import torch.nn.functional as F\n",
    "import torchvision.transforms as transforms\n",
    "import numpy as np\n",
    "import matplotlib.pyplot as plt\n",
    "from torch import nn\n",
    "from torch import optim"
   ]
  },
  {
   "cell_type": "code",
   "execution_count": null,
   "metadata": {},
   "outputs": [],
   "source": [
    "# Load the train and test data\n",
    "train_set = torchvision.datasets.FashionMNIST(root = \".\", train = True,download = True, transform = transforms.ToTensor())\n",
    "test_set = torchvision.datasets.FashionMNIST(root = \".\", train = False,download = True, transform = transforms.ToTensor())\n",
    "\n",
    "train_loader = torch.utils.data.DataLoader(train_set , batch_size = 32,shuffle = False)\n",
    "test_loader = torch.utils.data.DataLoader(test_set, batch_size = 32,shuffle = False)\n",
    "\n",
    "torch.manual_seed(0)"
   ]
  },
  {
   "cell_type": "code",
   "execution_count": null,
   "metadata": {},
   "outputs": [],
   "source": [
    "# Print the dimensionality of the data\n",
    "print('The dimension of the train data:')\n",
    "print(train_set.data.size())\n",
    "print('\\nThe dimension of the train labels:')\n",
    "print(train_set.targets.size())\n",
    "\n",
    "print('\\n\\nThe dimension of the validation data:')\n",
    "print(test_set.data.size())\n",
    "print('\\nThe dimension of the validation labels:')\n",
    "print(test_set.targets.size())"
   ]
  },
  {
   "cell_type": "code",
   "execution_count": null,
   "metadata": {},
   "outputs": [],
   "source": [
    "# Display image resolution and number of classes\n",
    "input_data_visual, label_visual = next(iter(train_loader))\n",
    "\n",
    "print(\"Dimension of input data: {}\".format(input_data_visual.size()))\n",
    "print(\"Dimension of labels: {}\".format(label_visual.size()))\n",
    "\n",
    "plt.title(\"Label is: {}\".format(label_visual[0]), FontSize=16)\n",
    "plt.imshow(input_data_visual[0,:,:,:].numpy().reshape(28,28), cmap=\"gray_r\")"
   ]
  },
  {
   "cell_type": "code",
   "execution_count": null,
   "metadata": {},
   "outputs": [],
   "source": [
    "# Check if CUDA GPU training is available\n",
    "print(torch.cuda.is_available())"
   ]
  },
  {
   "cell_type": "code",
   "execution_count": null,
   "metadata": {},
   "outputs": [],
   "source": [
    "# Set hyperparameters\n",
    "n_epochs = 50\n",
    "learning_rate = 0.1\n",
    "\n",
    "# Set frequency at which loss and accuracy is printed while training\n",
    "log_interval = 10\n",
    "\n",
    "# Initialise empty arrays for storing loss and accuracy between epochs\n",
    "loss_epoch_array = []\n",
    "train_accuracy = []\n",
    "test_accuracy = []\n",
    "valid_accuracy = []\n",
    "\n",
    "# Train on CUDA GPU if available, otherwise on local CPU\n",
    "device = torch.device(\"cuda\" if torch.cuda.is_available() else \"cpu\")"
   ]
  },
  {
   "cell_type": "code",
   "execution_count": null,
   "metadata": {},
   "outputs": [],
   "source": [
    "# Define CNN class\n",
    "class CNN_Net(nn.Module):\n",
    "\n",
    "    # In the constructor below we define the layers of the network\n",
    "    def __init__(self):\n",
    "        super(CNN_Net, self).__init__()\n",
    "        self.conv1 = nn.Conv2d(1, 32, kernel_size=(5,5))\n",
    "        self.conv2 = nn.Conv2d(32, 64, kernel_size=(5,5))\n",
    "        self.max_pool1 = nn.MaxPool2d(kernel_size=(2,2))\n",
    "        self.max_pool2 = nn.MaxPool2d(kernel_size=(2,2))\n",
    "        self.fc1   = nn.Linear(64*4*4, 1024)\n",
    "        self.fc2   = nn.Linear(1024, 256)\n",
    "        self.fc3   = nn.Linear(256, 10)\n",
    "        self.dropout = nn.Dropout(p=0.3)\n",
    "    \n",
    "    # Instantiate the layers of the network, and pass them through activation functions\n",
    "    def forward(self, x):\n",
    "        # Activation function can be adjusted here\n",
    "        x = F.relu(self.conv1(x))\n",
    "        x = self.max_pool1(x)\n",
    "        x = F.relu(self.conv2(x))\n",
    "        x = self.max_pool2(x)\n",
    "        x = torch.flatten(x,1)\n",
    "        x = F.relu(self.fc1(x))\n",
    "        x = F.relu(self.fc2(x))\n",
    "        x = self.dropout(x)\n",
    "        x = self.fc3(x)\n",
    "        return x\n",
    "\n",
    "# Define initialisation function for network weights\n",
    "def weights_init(model):\n",
    "    if isinstance(model, nn.Linear):\n",
    "        # Xavier Distribution\n",
    "        torch.nn.init.xavier_uniform_(model.weight)\n",
    "\n",
    "# Define train loop\n",
    "def train(dataloader, epoch):\n",
    "    # Ensure cumulative epoch loss variable is zeroed at the beginning of every epoch\n",
    "    loss_epoch = 0\n",
    "    for i, (data,targets) in enumerate(dataloader):\n",
    "        # Inside this loop the gradient is zeroed, label predictions are calculated, and then\n",
    "        # losses are backpropagated through the network and weights are adjusted\n",
    "        data, targets = data.to(device), targets.to(device)\n",
    "        optimizer.zero_grad()\n",
    "        outputs = cnn_net(data)\n",
    "        loss = loss_function(outputs, targets)\n",
    "        loss.backward()\n",
    "        optimizer.step()\n",
    "        # Cumulative loss is stored\n",
    "        loss_epoch += loss.item()\n",
    "        if i % log_interval == 0:\n",
    "            # At a certain interval, the current accuracy and loss in a given epoch are printed\n",
    "            accuracy = float(test(test_loader))\n",
    "            print('Train Epoch: {} [{}/{} ({:.0f}%)]\\tLoss: {:.4f}, Accuracy: {:.4f}%'.format(\n",
    "                epoch, i * 32, len(dataloader.dataset), 100.0 * i / len(dataloader), \n",
    "                loss.item(),accuracy))\n",
    "    return loss_epoch\n",
    "\n",
    "# Define test loop\n",
    "def test(dataloader):\n",
    "    # Ensure cumulative epoch loss and correct count variables are zeroed at the begining of every epoch\n",
    "    test_loss = 0\n",
    "    correct = 0\n",
    "    for i, (data, targets) in enumerate(dataloader):\n",
    "        # Inside this loop, label predictions are calculated and compared with the ground truth \n",
    "        # class label. When a correct prediction is made the correct variable is incremented\n",
    "        data, targets = data.to(device), targets.to(device)\n",
    "        outputs = cnn_net(data)\n",
    "        _, pred = torch.max(outputs, 1)\n",
    "        test_loss += targets.size(0)\n",
    "        correct += torch.sum(pred == targets)\n",
    "    return 100.0 * correct / test_loss\n",
    "\n",
    "# Instantiate CNN class on CUDA/ CPU (depending on which is available)\n",
    "cnn_net = CNN_Net().to(device)\n",
    "# Initialise weights to Xavier Uniform using weights_init() function\n",
    "cnn_net.apply(weights_init)\n",
    "# Define loss function as Cross Entropy Loss\n",
    "loss_function = nn.CrossEntropyLoss()\n",
    "# Define optimizer as Stochastic Gradient Descent with no momentum\n",
    "optimizer = torch.optim.SGD(cnn_net.parameters(), lr=learning_rate)\n",
    "# Print structure of model\n",
    "print(cnn_net)"
   ]
  },
  {
   "cell_type": "code",
   "execution_count": null,
   "metadata": {},
   "outputs": [],
   "source": [
    "# Driver code to iterate through epochs and store loss and accuracy\n",
    "for epoch in range(n_epochs):\n",
    "    loss_epoch = 0\n",
    "    loss_epoch = train(train_loader, epoch)\n",
    "    loss_epoch_array.append(loss_epoch)\n",
    "    \n",
    "    train_accuracy.append(test(train_loader))\n",
    "    valid_accuracy.append(test(test_loader))\n",
    "    print(\"Epoch {}: loss: {:.4f}, train accuracy: {:.4f}, valid accuracy:{:.4f}\".format(epoch + 1, \n",
    "                                        loss_epoch_array[-1], train_accuracy[-1], valid_accuracy[-1]))"
   ]
  },
  {
   "cell_type": "code",
   "execution_count": null,
   "metadata": {},
   "outputs": [],
   "source": [
    "# Display accuracy results in a figure\n",
    "plt.rcParams['figure.dpi'] = 300\n",
    "epochs = range(n_epochs)\n",
    "plt.plot(epochs, train_accuracy, 'g', label='Training accuracy')\n",
    "plt.plot(epochs, valid_accuracy, 'b', label='Test accuracy')\n",
    "plt.title('Training and Test accuracy')\n",
    "plt.xlabel('Epochs')\n",
    "plt.ylabel('Accuracy')\n",
    "plt.legend()\n",
    "plt.show()"
   ]
  }
 ],
 "metadata": {
  "kernelspec": {
   "display_name": "Python 3",
   "language": "python",
   "name": "python3"
  },
  "language_info": {
   "codemirror_mode": {
    "name": "ipython",
    "version": 3
   },
   "file_extension": ".py",
   "mimetype": "text/x-python",
   "name": "python",
   "nbconvert_exporter": "python",
   "pygments_lexer": "ipython3",
   "version": "3.7.1"
  }
 },
 "nbformat": 4,
 "nbformat_minor": 4
}
